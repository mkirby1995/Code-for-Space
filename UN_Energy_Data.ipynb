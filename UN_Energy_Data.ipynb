{
  "nbformat": 4,
  "nbformat_minor": 0,
  "metadata": {
    "colab": {
      "name": "UN Energy Data.ipynb",
      "version": "0.3.2",
      "provenance": [],
      "include_colab_link": true
    },
    "kernelspec": {
      "name": "python3",
      "display_name": "Python 3"
    }
  },
  "cells": [
    {
      "cell_type": "markdown",
      "metadata": {
        "id": "view-in-github",
        "colab_type": "text"
      },
      "source": [
        "<a href=\"https://colab.research.google.com/github/mkirby1995/Code-for-Space/blob/master/UN_Energy_Data.ipynb\" target=\"_parent\"><img src=\"https://colab.research.google.com/assets/colab-badge.svg\" alt=\"Open In Colab\"/></a>"
      ]
    },
    {
      "metadata": {
        "id": "QoeEL4zFC2x5",
        "colab_type": "text"
      },
      "cell_type": "markdown",
      "source": [
        "Lets load some data in.\n",
        "\n",
        "[Home webpage](http://data.un.org)\n",
        "\n",
        "[Data](http://data.un.org/_Docs/SYB/CSV/SYB62_T23_201904_Production,%20Trade%20and%20Supply%20of%20Energy.csv)\n",
        "\n",
        "Were using data from the United Nations today\n"
      ]
    },
    {
      "metadata": {
        "id": "2WOzm5qg_IbT",
        "colab_type": "code",
        "colab": {}
      },
      "cell_type": "code",
      "source": [
        "import pandas as pd\n",
        "\n",
        "data = 'http://data.un.org/_Docs/SYB/CSV/SYB62_T23_201904_Production,%20Trade%20and%20Supply%20of%20Energy.csv'\n",
        "\n",
        "energy = pd.read_csv(data,\n",
        "                     encoding=\"ISO-8859-1\",\n",
        "                     skiprows=1)\n",
        "\n",
        "energy.head(3)"
      ],
      "execution_count": 0,
      "outputs": []
    },
    {
      "metadata": {
        "id": "aa-Eb0FpCRU2",
        "colab_type": "text"
      },
      "cell_type": "markdown",
      "source": [
        "`Unnamed: 1 ` What the hell is that?"
      ]
    },
    {
      "metadata": {
        "id": "F1AEY5S1Baju",
        "colab_type": "code",
        "colab": {}
      },
      "cell_type": "code",
      "source": [
        "energy['Unnamed: 1'].value_counts()"
      ],
      "execution_count": 0,
      "outputs": []
    },
    {
      "metadata": {
        "id": "_SNibb70CYqQ",
        "colab_type": "text"
      },
      "cell_type": "markdown",
      "source": [
        "Ah, we should rename it to 'Country Name'"
      ]
    },
    {
      "metadata": {
        "id": "mRZA_VEwBjue",
        "colab_type": "code",
        "colab": {}
      },
      "cell_type": "code",
      "source": [
        "energy = energy.rename(columns = {'Unnamed: 1': 'Country Name'})"
      ],
      "execution_count": 0,
      "outputs": []
    },
    {
      "metadata": {
        "id": "9l_Xcs6ACghf",
        "colab_type": "text"
      },
      "cell_type": "markdown",
      "source": [
        "Did that work?"
      ]
    },
    {
      "metadata": {
        "id": "cV1ykLByBr2M",
        "colab_type": "code",
        "colab": {}
      },
      "cell_type": "code",
      "source": [
        "energy.head(1)"
      ],
      "execution_count": 0,
      "outputs": []
    },
    {
      "metadata": {
        "id": "ciZCIEiPBvVb",
        "colab_type": "code",
        "colab": {}
      },
      "cell_type": "code",
      "source": [
        "Cool. Moving on.."
      ],
      "execution_count": 0,
      "outputs": []
    },
    {
      "metadata": {
        "id": "SBqJRTw2C1YC",
        "colab_type": "text"
      },
      "cell_type": "markdown",
      "source": [
        "Im still not entirely sure what all this is yet... Lets get a closer look."
      ]
    },
    {
      "metadata": {
        "id": "iJ4vpKkPD7cm",
        "colab_type": "code",
        "colab": {
          "base_uri": "https://localhost:8080/",
          "height": 289
        },
        "outputId": "0443be6d-a411-4c3e-8968-471b03b8920b"
      },
      "cell_type": "code",
      "source": [
        "energy.head()"
      ],
      "execution_count": 16,
      "outputs": [
        {
          "output_type": "execute_result",
          "data": {
            "text/html": [
              "<div>\n",
              "<style scoped>\n",
              "    .dataframe tbody tr th:only-of-type {\n",
              "        vertical-align: middle;\n",
              "    }\n",
              "\n",
              "    .dataframe tbody tr th {\n",
              "        vertical-align: top;\n",
              "    }\n",
              "\n",
              "    .dataframe thead th {\n",
              "        text-align: right;\n",
              "    }\n",
              "</style>\n",
              "<table border=\"1\" class=\"dataframe\">\n",
              "  <thead>\n",
              "    <tr style=\"text-align: right;\">\n",
              "      <th></th>\n",
              "      <th>Region/Country/Area</th>\n",
              "      <th>Country Name</th>\n",
              "      <th>Year</th>\n",
              "      <th>Series</th>\n",
              "      <th>Value</th>\n",
              "      <th>Footnotes</th>\n",
              "      <th>Source</th>\n",
              "    </tr>\n",
              "  </thead>\n",
              "  <tbody>\n",
              "    <tr>\n",
              "      <th>0</th>\n",
              "      <td>1</td>\n",
              "      <td>Total, all countries or areas</td>\n",
              "      <td>1990</td>\n",
              "      <td>Primary energy production (petajoules)</td>\n",
              "      <td>360,903</td>\n",
              "      <td>NaN</td>\n",
              "      <td>United Nations Statistics Division, New York, ...</td>\n",
              "    </tr>\n",
              "    <tr>\n",
              "      <th>1</th>\n",
              "      <td>1</td>\n",
              "      <td>Total, all countries or areas</td>\n",
              "      <td>1995</td>\n",
              "      <td>Primary energy production (petajoules)</td>\n",
              "      <td>380,713</td>\n",
              "      <td>NaN</td>\n",
              "      <td>United Nations Statistics Division, New York, ...</td>\n",
              "    </tr>\n",
              "    <tr>\n",
              "      <th>2</th>\n",
              "      <td>1</td>\n",
              "      <td>Total, all countries or areas</td>\n",
              "      <td>2000</td>\n",
              "      <td>Primary energy production (petajoules)</td>\n",
              "      <td>412,155</td>\n",
              "      <td>NaN</td>\n",
              "      <td>United Nations Statistics Division, New York, ...</td>\n",
              "    </tr>\n",
              "    <tr>\n",
              "      <th>3</th>\n",
              "      <td>1</td>\n",
              "      <td>Total, all countries or areas</td>\n",
              "      <td>2005</td>\n",
              "      <td>Primary energy production (petajoules)</td>\n",
              "      <td>476,738</td>\n",
              "      <td>NaN</td>\n",
              "      <td>United Nations Statistics Division, New York, ...</td>\n",
              "    </tr>\n",
              "    <tr>\n",
              "      <th>4</th>\n",
              "      <td>1</td>\n",
              "      <td>Total, all countries or areas</td>\n",
              "      <td>2010</td>\n",
              "      <td>Primary energy production (petajoules)</td>\n",
              "      <td>530,597</td>\n",
              "      <td>NaN</td>\n",
              "      <td>United Nations Statistics Division, New York, ...</td>\n",
              "    </tr>\n",
              "  </tbody>\n",
              "</table>\n",
              "</div>"
            ],
            "text/plain": [
              "   Region/Country/Area                   Country Name  Year  \\\n",
              "0                    1  Total, all countries or areas  1990   \n",
              "1                    1  Total, all countries or areas  1995   \n",
              "2                    1  Total, all countries or areas  2000   \n",
              "3                    1  Total, all countries or areas  2005   \n",
              "4                    1  Total, all countries or areas  2010   \n",
              "\n",
              "                                   Series    Value Footnotes  \\\n",
              "0  Primary energy production (petajoules)  360,903       NaN   \n",
              "1  Primary energy production (petajoules)  380,713       NaN   \n",
              "2  Primary energy production (petajoules)  412,155       NaN   \n",
              "3  Primary energy production (petajoules)  476,738       NaN   \n",
              "4  Primary energy production (petajoules)  530,597       NaN   \n",
              "\n",
              "                                              Source  \n",
              "0  United Nations Statistics Division, New York, ...  \n",
              "1  United Nations Statistics Division, New York, ...  \n",
              "2  United Nations Statistics Division, New York, ...  \n",
              "3  United Nations Statistics Division, New York, ...  \n",
              "4  United Nations Statistics Division, New York, ...  "
            ]
          },
          "metadata": {
            "tags": []
          },
          "execution_count": 16
        }
      ]
    },
    {
      "metadata": {
        "id": "Hz1tDJ39EHWB",
        "colab_type": "text"
      },
      "cell_type": "markdown",
      "source": [
        "How big is this thing?"
      ]
    },
    {
      "metadata": {
        "id": "-rKAMsdmEJNi",
        "colab_type": "code",
        "colab": {
          "base_uri": "https://localhost:8080/",
          "height": 35
        },
        "outputId": "8af796ac-10f2-46d0-bfa9-76e9971ffc65"
      },
      "cell_type": "code",
      "source": [
        "energy.shape"
      ],
      "execution_count": 17,
      "outputs": [
        {
          "output_type": "execute_result",
          "data": {
            "text/plain": [
              "(8293, 7)"
            ]
          },
          "metadata": {
            "tags": []
          },
          "execution_count": 17
        }
      ]
    },
    {
      "metadata": {
        "id": "Iz6yKLj7ES5A",
        "colab_type": "text"
      },
      "cell_type": "markdown",
      "source": [
        "`8293` instances and `7` features....why 8,000?"
      ]
    },
    {
      "metadata": {
        "id": "j_ny88trEKzm",
        "colab_type": "code",
        "colab": {
          "base_uri": "https://localhost:8080/",
          "height": 179
        },
        "outputId": "ea025599-4b70-4f90-a6b2-37a7fc7772ac"
      },
      "cell_type": "code",
      "source": [
        "energy['Year'].value_counts()"
      ],
      "execution_count": 18,
      "outputs": [
        {
          "output_type": "execute_result",
          "data": {
            "text/plain": [
              "2015    1085\n",
              "2016    1085\n",
              "2014    1082\n",
              "2010    1066\n",
              "2005    1050\n",
              "2000    1020\n",
              "1995    1016\n",
              "1990     889\n",
              "Name: Year, dtype: int64"
            ]
          },
          "metadata": {
            "tags": []
          },
          "execution_count": 18
        }
      ]
    },
    {
      "metadata": {
        "id": "qyYuadF7FaRo",
        "colab_type": "text"
      },
      "cell_type": "markdown",
      "source": [
        "Ah. Isn't that nice all but the last two are she same size...."
      ]
    },
    {
      "metadata": {
        "id": "d-IMiEXTGeal",
        "colab_type": "text"
      },
      "cell_type": "markdown",
      "source": [
        "We can sort values by `Year` then use self assignmnet in combination with the`.head` or  `.tail` functions to cut and chop rows. We will use `.shape` to chech our work."
      ]
    },
    {
      "metadata": {
        "id": "ju5-xVmrFgwv",
        "colab_type": "code",
        "colab": {
          "base_uri": "https://localhost:8080/",
          "height": 35
        },
        "outputId": "74227104-2b66-4798-9615-f688848690d7"
      },
      "cell_type": "code",
      "source": [
        "energy = energy.sort_values(by='Year',\n",
        "                            ascending = False)\n",
        "\n",
        "energy_2016 = energy.head(1085)\n",
        "\n",
        "energy_2016.shape"
      ],
      "execution_count": 22,
      "outputs": [
        {
          "output_type": "execute_result",
          "data": {
            "text/plain": [
              "(1085, 7)"
            ]
          },
          "metadata": {
            "tags": []
          },
          "execution_count": 22
        }
      ]
    },
    {
      "metadata": {
        "id": "k7O5XcpOINmJ",
        "colab_type": "text"
      },
      "cell_type": "markdown",
      "source": [
        "Ok now we have a single year of data, but `1085` is still pretty big."
      ]
    },
    {
      "metadata": {
        "id": "w4I_WgMhIbe9",
        "colab_type": "code",
        "colab": {
          "base_uri": "https://localhost:8080/",
          "height": 125
        },
        "outputId": "e1fd8ae8-0951-4acc-8d75-e4cfbee80308"
      },
      "cell_type": "code",
      "source": [
        "energy_2016['Series'].value_counts()"
      ],
      "execution_count": 23,
      "outputs": [
        {
          "output_type": "execute_result",
          "data": {
            "text/plain": [
              "Total supply (petajoules)                                 235\n",
              "Supply per capita (gigajoules)                            235\n",
              "Net imports [Imports - Exports - Bunkers] (petajoules)    233\n",
              "Primary energy production (petajoules)                    226\n",
              "Changes in stocks (petajoules)                            156\n",
              "Name: Series, dtype: int64"
            ]
          },
          "metadata": {
            "tags": []
          },
          "execution_count": 23
        }
      ]
    },
    {
      "metadata": {
        "id": "4uYN16ACJHIT",
        "colab_type": "text"
      },
      "cell_type": "markdown",
      "source": [
        "Total supply looks like a good place to start. Lets cut the rest off."
      ]
    },
    {
      "metadata": {
        "id": "kbbEpG4SJQUb",
        "colab_type": "text"
      },
      "cell_type": "markdown",
      "source": [
        "The `.head` trick might not be as easy here. We can specify a condition then use the `.loc` function to chop out all the non-conforming rows"
      ]
    },
    {
      "metadata": {
        "id": "1rgp8csvJkcL",
        "colab_type": "code",
        "colab": {
          "base_uri": "https://localhost:8080/",
          "height": 35
        },
        "outputId": "df5b05c5-ce6d-47cf-efd9-37e46932d262"
      },
      "cell_type": "code",
      "source": [
        "condition = (energy['Series'] == \"Total supply (petajoules)\")\n",
        "\n",
        "total_2016_supply = energy_2016.loc[condition]\n",
        "\n",
        "total_2016_supply.shape"
      ],
      "execution_count": 31,
      "outputs": [
        {
          "output_type": "execute_result",
          "data": {
            "text/plain": [
              "(235, 7)"
            ]
          },
          "metadata": {
            "tags": []
          },
          "execution_count": 31
        }
      ]
    }
  ]
}